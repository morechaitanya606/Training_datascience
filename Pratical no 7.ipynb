{
 "cells": [
  {
   "cell_type": "markdown",
   "id": "df9dd8f4",
   "metadata": {},
   "source": [
    "Name\t: Chaitanya more\n",
    "    \n",
    "Roll_no\t:-\t01\t\"B\"\n",
    "    \n",
    "Batch\t:-\tTB1-B2"
   ]
  },
  {
   "cell_type": "markdown",
   "id": "be741139",
   "metadata": {},
   "source": [
    "#### Pratical No 7"
   ]
  },
  {
   "cell_type": "markdown",
   "id": "b5c2551d",
   "metadata": {},
   "source": [
    "1. Extract\tSample\tdocument and apply following document preprocessing methods:Tokenization,POS Tagging,stop words\tremoval,Stemming and Lemmatization.\n",
    "2. Create representation of document by calculating Term Frequency\tand\tInverse\tDocument Frequency."
   ]
  },
  {
   "cell_type": "code",
   "execution_count": 1,
   "id": "ab14ed76",
   "metadata": {},
   "outputs": [],
   "source": [
    "Sample_Sentences=\"I played the play playfully as the players were playing in the play with playfullness\"\n"
   ]
  },
  {
   "cell_type": "code",
   "execution_count": 2,
   "id": "40a45bb0",
   "metadata": {},
   "outputs": [
    {
     "name": "stderr",
     "output_type": "stream",
     "text": [
      "[nltk_data] Downloading package punkt to\n",
      "[nltk_data]     C:\\Users\\Chaitanya\\AppData\\Roaming\\nltk_data...\n",
      "[nltk_data]   Package punkt is already up-to-date!\n",
      "[nltk_data] Downloading package stopwords to\n",
      "[nltk_data]     C:\\Users\\Chaitanya\\AppData\\Roaming\\nltk_data...\n",
      "[nltk_data]   Package stopwords is already up-to-date!\n",
      "[nltk_data] Downloading package wordnet to\n",
      "[nltk_data]     C:\\Users\\Chaitanya\\AppData\\Roaming\\nltk_data...\n",
      "[nltk_data]   Package wordnet is already up-to-date!\n",
      "[nltk_data] Downloading package averaged_perceptron_tagger to\n",
      "[nltk_data]     C:\\Users\\Chaitanya\\AppData\\Roaming\\nltk_data...\n",
      "[nltk_data]   Package averaged_perceptron_tagger is already up-to-\n",
      "[nltk_data]       date!\n"
     ]
    },
    {
     "data": {
      "text/plain": [
       "True"
      ]
     },
     "execution_count": 2,
     "metadata": {},
     "output_type": "execute_result"
    }
   ],
   "source": [
    "import nltk\n",
    "nltk.download(\"punkt\")\n",
    "nltk.download(\"stopwords\")\n",
    "nltk.download(\"wordnet\")\n",
    "nltk.download('averaged_perceptron_tagger')"
   ]
  },
  {
   "cell_type": "markdown",
   "id": "1d5f6698",
   "metadata": {},
   "source": [
    "#### Tokenization"
   ]
  },
  {
   "cell_type": "code",
   "execution_count": 3,
   "id": "398a8dcc",
   "metadata": {},
   "outputs": [],
   "source": [
    " from nltk.tokenize import sent_tokenize"
   ]
  },
  {
   "cell_type": "code",
   "execution_count": 4,
   "id": "a60bd100",
   "metadata": {},
   "outputs": [],
   "source": [
    " sentences = sent_tokenize(Sample_Sentences)"
   ]
  },
  {
   "cell_type": "code",
   "execution_count": 5,
   "id": "1729df08",
   "metadata": {},
   "outputs": [
    {
     "data": {
      "text/plain": [
       "['I played the play playfully as the players were playing in the play with playfullness']"
      ]
     },
     "execution_count": 5,
     "metadata": {},
     "output_type": "execute_result"
    }
   ],
   "source": [
    " sentences"
   ]
  },
  {
   "cell_type": "code",
   "execution_count": 6,
   "id": "9bc52836",
   "metadata": {},
   "outputs": [
    {
     "name": "stdout",
     "output_type": "stream",
     "text": [
      "sentences words:  ['I played the play playfully as the players were playing in the play with playfullness']\n",
      "Tokenized words: [['I', 'played', 'the', 'play', 'playfully', 'as', 'the', 'players', 'were', 'playing', 'in', 'the', 'play', 'with', 'playfullness']]\n"
     ]
    }
   ],
   "source": [
    " from nltk import word_tokenize, sent_tokenize\n",
    " sentences = sent_tokenize(Sample_Sentences)\n",
    " tokenized_words = [word_tokenize(sentence) for sentence in sentences]\n",
    " print('sentences words: ',sentences )\n",
    " print('Tokenized words:', tokenized_words)"
   ]
  },
  {
   "cell_type": "markdown",
   "id": "ca41e21d",
   "metadata": {},
   "source": [
    "#### POS Tagging"
   ]
  },
  {
   "cell_type": "code",
   "execution_count": 7,
   "id": "96b6cdd1",
   "metadata": {},
   "outputs": [
    {
     "name": "stdout",
     "output_type": "stream",
     "text": [
      "Tagging Parts of Speech: [('I', 'PRP'), ('played', 'VBD'), ('the', 'DT'), ('play', 'NN'), ('playfully', 'RB'), ('as', 'IN'), ('the', 'DT'), ('players', 'NNS'), ('were', 'VBD'), ('playing', 'VBG'), ('in', 'IN'), ('the', 'DT'), ('play', 'NN'), ('with', 'IN'), ('playfullness', 'NN')]\n"
     ]
    }
   ],
   "source": [
    "from nltk import pos_tag\n",
    "tokenized_words = word_tokenize(Sample_Sentences)\n",
    "pos_tags = pos_tag(tokenized_words)\n",
    "print(\"Tagging Parts of Speech:\", pos_tags)\n"
   ]
  },
  {
   "cell_type": "markdown",
   "id": "8cc54796",
   "metadata": {},
   "source": [
    "#### Stop word removal"
   ]
  },
  {
   "cell_type": "code",
   "execution_count": 8,
   "id": "1131d637",
   "metadata": {},
   "outputs": [
    {
     "name": "stdout",
     "output_type": "stream",
     "text": [
      "Filtered Tokens after Stop Words Removal: ['played', 'play', 'playfully', 'players', 'playing', 'play', 'playfullness']\n"
     ]
    }
   ],
   "source": [
    "from nltk.corpus import stopwords\n",
    "stop_words = set(stopwords.words('english'))\n",
    "filtered_tokens = [word for word in tokenized_words if word.lower() not in stop_words]\n",
    "print(\"Filtered Tokens after Stop Words Removal:\", filtered_tokens)"
   ]
  },
  {
   "cell_type": "markdown",
   "id": "fda4bd04",
   "metadata": {},
   "source": [
    "#### Stemming"
   ]
  },
  {
   "cell_type": "code",
   "execution_count": 9,
   "id": "f2bd16da",
   "metadata": {},
   "outputs": [
    {
     "name": "stdout",
     "output_type": "stream",
     "text": [
      "Stemmed\tTokens: ['play', 'play', 'play', 'player', 'play', 'play', 'playful']\n"
     ]
    }
   ],
   "source": [
    "from nltk.stem import PorterStemmer\n",
    "stemmer= PorterStemmer()\n",
    "stemmed_tokens = [stemmer.stem(word) for word in filtered_tokens]\n",
    "print(\"Stemmed\tTokens:\", stemmed_tokens)"
   ]
  },
  {
   "cell_type": "markdown",
   "id": "50d8620c",
   "metadata": {},
   "source": [
    "#### Lemmatization"
   ]
  },
  {
   "cell_type": "code",
   "execution_count": 10,
   "id": "4248105a",
   "metadata": {},
   "outputs": [
    {
     "name": "stdout",
     "output_type": "stream",
     "text": [
      "Lemmatized Tokens: ['played', 'play', 'playfully', 'player', 'playing', 'play', 'playfullness']\n"
     ]
    }
   ],
   "source": [
    "from nltk.stem import WordNetLemmatizer\n",
    "lemmatizer = WordNetLemmatizer()\n",
    "lemmatized_tokens = [lemmatizer.lemmatize(word) for word in filtered_tokens]\n",
    "print(\"Lemmatized Tokens:\", lemmatized_tokens)"
   ]
  },
  {
   "cell_type": "markdown",
   "id": "647e6d32",
   "metadata": {},
   "source": [
    "#### TF-IDF"
   ]
  },
  {
   "cell_type": "code",
   "execution_count": 11,
   "id": "376c5576",
   "metadata": {},
   "outputs": [],
   "source": [
    "preprocessed_text=' '.join(lemmatized_tokens)"
   ]
  },
  {
   "cell_type": "code",
   "execution_count": 12,
   "id": "90c03fce",
   "metadata": {},
   "outputs": [
    {
     "name": "stdout",
     "output_type": "stream",
     "text": [
      "Preprocessed Text: played play playfully player playing play playfullness\n",
      "\n",
      "TF-IDF Representation:\n",
      "[[0.66666667 0.33333333 0.33333333 0.33333333 0.33333333 0.33333333]]\n"
     ]
    }
   ],
   "source": [
    "from sklearn.feature_extraction.text import TfidfVectorizer\n",
    "tfidf_vectorizer = TfidfVectorizer()\n",
    "tfidf_representation = tfidf_vectorizer.fit_transform([preprocessed_text])\n",
    "print(\"Preprocessed Text:\", preprocessed_text)\n",
    "print(\"\\nTF-IDF Representation:\")\n",
    "print(tfidf_representation.toarray())"
   ]
  },
  {
   "cell_type": "code",
   "execution_count": null,
   "id": "132a07c2",
   "metadata": {},
   "outputs": [],
   "source": []
  }
 ],
 "metadata": {
  "kernelspec": {
   "display_name": "Python 3 (ipykernel)",
   "language": "python",
   "name": "python3"
  },
  "language_info": {
   "codemirror_mode": {
    "name": "ipython",
    "version": 3
   },
   "file_extension": ".py",
   "mimetype": "text/x-python",
   "name": "python",
   "nbconvert_exporter": "python",
   "pygments_lexer": "ipython3",
   "version": "3.11.5"
  }
 },
 "nbformat": 4,
 "nbformat_minor": 5
}
